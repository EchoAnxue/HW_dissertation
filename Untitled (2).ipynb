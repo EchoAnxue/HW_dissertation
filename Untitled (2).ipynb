{
 "cells": [
  {
   "cell_type": "code",
   "execution_count": null,
   "id": "fd3cb75a-a9da-4593-8dc6-64c2296f48b7",
   "metadata": {},
   "outputs": [],
   "source": [
    "!nohup python ./pipeline/pipeline-Copy1.py > output3.log 2>&1 &\n",
    "\n",
    "nohup python ./pipeline/pipeline.py > output5.log 2>&1 &"
   ]
  },
  {
   "cell_type": "code",
   "execution_count": null,
   "id": "dd789dd3-47c7-4c3a-b258-55cc5ae745d2",
   "metadata": {},
   "outputs": [],
   "source": [
    "!python ./pipeline/pipeline.py"
   ]
  },
  {
   "cell_type": "code",
   "execution_count": null,
   "id": "b6fd7358-84a2-4f8f-a151-60f53fb5966e",
   "metadata": {},
   "outputs": [],
   "source": [
    "\n",
    "\n",
    "\n",
    "\n",
    "!python ./pipeline/pipeline-Copy1.py"
   ]
  },
  {
   "cell_type": "code",
   "execution_count": 13,
   "id": "f55548af-dcbe-45d1-8441-67ef71402cfa",
   "metadata": {},
   "outputs": [
    {
     "name": "stdout",
     "output_type": "stream",
     "text": [
      "Archive:  ./data/reddit.zip\n",
      "  inflating: ./data/Reddit/raw/reddit_graph.npz  \n",
      "  inflating: ./data/Reddit/raw/reddit_data.npz  \n"
     ]
    }
   ],
   "source": [
    "!unzip ./data/reddit.zip -d ./data/Reddit/raw/"
   ]
  },
  {
   "cell_type": "code",
   "execution_count": 31,
   "id": "10649a59-058d-4dba-8814-bf11c45d0b72",
   "metadata": {},
   "outputs": [],
   "source": [
    "import torch\n",
    "torch.cuda.empty_cache()\n"
   ]
  },
  {
   "cell_type": "code",
   "execution_count": null,
   "id": "d07d980f-014f-4210-98ce-be4fd59049da",
   "metadata": {},
   "outputs": [],
   "source": [
    "!pip install torch-scatter -f https://data.pyg.org/whl/torch-2.5.1+cu124.html  # 根据你的PyTorch版本和CUDA版本调整URL\n",
    "\n",
    "!pip install torch-sparse -f https://data.pyg.org/whl/torch-2.5.1+cu124.html\n",
    "!pip install torch-cluster -f https://data.pyg.org/whl/torch-2.5.1+cu124.html\n",
    "!pip install torch-spline-conv -f https://data.pyg.org/whl/torch-2.5.1+cu124.html\n",
    "!pip install torch_geometric\n",
    "!pip install exceptiongroup\n",
    "!pip install torchsort\n",
    "!pip install scikit-learn\n"
   ]
  },
  {
   "cell_type": "code",
   "execution_count": null,
   "id": "ae6611a5-4d8c-4848-8fd6-818a7a6f3ff5",
   "metadata": {},
   "outputs": [],
   "source": [
    "cd ./data/Pubmed/PubMed/raw/\n",
    "\n",
    "!wget https://github.com/kimiyoung/planetoid/raw/master/data/ind.pubmed.x\n",
    "!wget https://github.com/kimiyoung/planetoid/raw/master/data/ind.pubmed.tx\n",
    "!wget https://github.com/kimiyoung/planetoid/raw/master/data/ind.pubmed.allx\n",
    "!wget https://github.com/kimiyoung/planetoid/raw/master/data/ind.pubmed.ally\n",
    "!wget https://github.com/kimiyoung/planetoid/raw/master/data/ind.pubmed.y\n",
    "!wget https://github.com/kimiyoung/planetoid/raw/master/data/ind.pubmed.graph\n",
    "!wget https://github.com/kimiyoung/planetoid/raw/master/data/ind.pubmed.test.index\n"
   ]
  },
  {
   "cell_type": "code",
   "execution_count": null,
   "id": "6a17f9a7-c9a1-4fbb-b3b4-224eaf81bff2",
   "metadata": {},
   "outputs": [],
   "source": [
    "!python ./pipeline/numworkers.py"
   ]
  },
  {
   "cell_type": "code",
   "execution_count": null,
   "id": "5e5aacf3-1a2c-4e4e-99d0-5fd3993b5596",
   "metadata": {},
   "outputs": [],
   "source": []
  },
  {
   "cell_type": "code",
   "execution_count": null,
   "id": "c4a8b340-5d30-4198-8e44-fea797cef3a2",
   "metadata": {},
   "outputs": [],
   "source": []
  }
 ],
 "metadata": {
  "kernelspec": {
   "display_name": "Python 3 (ipykernel)",
   "language": "python",
   "name": "python3"
  },
  "language_info": {
   "codemirror_mode": {
    "name": "ipython",
    "version": 3
   },
   "file_extension": ".py",
   "mimetype": "text/x-python",
   "name": "python",
   "nbconvert_exporter": "python",
   "pygments_lexer": "ipython3",
   "version": "3.12.3"
  }
 },
 "nbformat": 4,
 "nbformat_minor": 5
}
